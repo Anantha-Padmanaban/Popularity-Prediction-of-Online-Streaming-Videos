{
 "cells": [
  {
   "cell_type": "code",
   "execution_count": 1,
   "id": "1363d13a",
   "metadata": {},
   "outputs": [],
   "source": [
    "import pandas as pd\n",
    "import numpy as np\n",
    "import sklearn as sk\n",
    "from sklearn import svm\n",
    "from sklearn.ensemble import BaggingClassifier, RandomForestClassifier \n",
    "from sklearn.multiclass import OneVsRestClassifier\n",
    "from sklearn.metrics import classification_report, confusion_matrix,accuracy_score\n",
    "from sklearn.metrics import roc_auc_score,roc_curve\n",
    "import warnings\n",
    "warnings.filterwarnings('ignore')\n",
    "import matplotlib.pyplot as plt\n",
    "\n"
   ]
  },
  {
   "cell_type": "code",
   "execution_count": 2,
   "id": "29478493",
   "metadata": {},
   "outputs": [],
   "source": [
    "\n",
    "import collections\n",
    "from sklearn.feature_extraction.text import CountVectorizer\n",
    "from sklearn.model_selection import train_test_split\n",
    "from sklearn.metrics import accuracy_score"
   ]
  },
  {
   "cell_type": "code",
   "execution_count": 3,
   "id": "ef42bde7",
   "metadata": {},
   "outputs": [],
   "source": [
    "from pandas import Series, DataFrame\n",
    "from sklearn.linear_model import LogisticRegression\n",
    "from sklearn.model_selection import train_test_split\n",
    "from sklearn.metrics import classification_report\n",
    "from sklearn.svm import LinearSVC\n",
    "from sklearn.feature_selection import SelectFromModel\n",
    "import sklearn.preprocessing as pre\n",
    "from sklearn.metrics import roc_curve, auc\n",
    "from sklearn.preprocessing import label_binarize\n",
    "from sklearn.utils import resample\n",
    "from sklearn.neighbors import KNeighborsClassifier\n",
    "\n",
    "from sklearn.metrics import classification_report, confusion_matrix,accuracy_score\n",
    "from sklearn.metrics import roc_auc_score,roc_curve\n",
    "\n",
    "from sklearn.tree import DecisionTreeClassifier \n"
   ]
  },
  {
   "cell_type": "code",
   "execution_count": 4,
   "id": "fe59ae1f",
   "metadata": {},
   "outputs": [],
   "source": [
    "df_nonpop = pd.read_csv('C:/Users/VSmart/Projects/NonPopularVids.csv')\n",
    "df_pop = pd.read_csv('C:/Users/VSmart/Projects/PopVids.csv')\n"
   ]
  },
  {
   "cell_type": "code",
   "execution_count": 5,
   "id": "5eab338d",
   "metadata": {},
   "outputs": [],
   "source": [
    "sample=pd.concat([df_pop,df_nonpop])"
   ]
  },
  {
   "cell_type": "code",
   "execution_count": 6,
   "id": "22634063",
   "metadata": {},
   "outputs": [
    {
     "name": "stdout",
     "output_type": "stream",
     "text": [
      "<class 'pandas.core.frame.DataFrame'>\n",
      "Int64Index: 1395 entries, 0 to 1134\n",
      "Data columns (total 17 columns):\n",
      " #   Column                Non-Null Count  Dtype  \n",
      "---  ------                --------------  -----  \n",
      " 0   Unnamed: 0            1395 non-null   int64  \n",
      " 1   video_id              1395 non-null   object \n",
      " 2   definition            1395 non-null   int64  \n",
      " 3   categoryID            1395 non-null   int64  \n",
      " 4   likes_to_views        1395 non-null   float64\n",
      " 5   duration_to_views     1395 non-null   float64\n",
      " 6   captioning            1395 non-null   int64  \n",
      " 7   dislikes_to_views     1395 non-null   float64\n",
      " 8   title_length          1395 non-null   int64  \n",
      " 9   subscriber_count      1395 non-null   int64  \n",
      " 10  descrp_length         1395 non-null   int64  \n",
      " 11  publish_month         1395 non-null   int64  \n",
      " 12  numVides_on_Channel   1395 non-null   int64  \n",
      " 13  popularity            1395 non-null   int64  \n",
      " 14  likes_to_dislikes     1395 non-null   float64\n",
      " 15  views_to_subscribers  1395 non-null   float64\n",
      " 16  views_to_daysActive   1395 non-null   float64\n",
      "dtypes: float64(6), int64(10), object(1)\n",
      "memory usage: 196.2+ KB\n"
     ]
    }
   ],
   "source": [
    "sample.info()"
   ]
  },
  {
   "cell_type": "code",
   "execution_count": null,
   "id": "2398dbad",
   "metadata": {},
   "outputs": [],
   "source": []
  },
  {
   "cell_type": "code",
   "execution_count": 7,
   "id": "304efd7e",
   "metadata": {},
   "outputs": [],
   "source": [
    "def createROCCurve(y_test,y_pred,heading):      #plots ROC Curve\n",
    "    fpr = dict()\n",
    "    tpr = dict()\n",
    "    roc_auc = dict()\n",
    "    y_pred = label_binarize(y_pred,classes=[0,1])\n",
    "    y_test = label_binarize(y_test,classes=[0,1])\n",
    "    n_classes = y_test.shape[1]\n",
    "    for i in range(n_classes):\n",
    "        fpr[i], tpr[i], _ = roc_curve(y_test[:, i], y_pred[:, i])\n",
    "        roc_auc[i] = auc(fpr[i], tpr[i])\n",
    "    fpr[\"micro\"], tpr[\"micro\"], _ = roc_curve(y_test.ravel(), y_pred.ravel())\n",
    "    roc_auc[\"micro\"] = auc(fpr[\"micro\"], tpr[\"micro\"])\n",
    "    plt.figure()\n",
    "    lw = 2\n",
    "    plt.plot(fpr[0], tpr[0], color='darkorange',\n",
    "         lw=lw, label='ROC curve (area = %0.2f)' % roc_auc[0])\n",
    "    plt.plot([0, 1], [0, 1], color='navy', lw=lw, linestyle='--')\n",
    "    plt.xlim([0.0, 1.0])\n",
    "    plt.ylim([0.0, 1.05])\n",
    "    plt.xlabel('False Positive Rate')\n",
    "    plt.ylabel('True Positive Rate')\n",
    "    plt.title(heading)\n",
    "    plt.legend(loc=\"lower right\")\n",
    "    plt.show()"
   ]
  },
  {
   "cell_type": "code",
   "execution_count": 8,
   "id": "1a342d83",
   "metadata": {},
   "outputs": [],
   "source": [
    "from sklearn.naive_bayes import MultinomialNB\n",
    "from sklearn.ensemble import RandomForestClassifier\n",
    "from sklearn.svm import SVC\n",
    "from sklearn.neighbors import KNeighborsClassifier\n",
    "from sklearn.tree import DecisionTreeClassifier\n"
   ]
  },
  {
   "cell_type": "code",
   "execution_count": 9,
   "id": "aaf056e4",
   "metadata": {},
   "outputs": [],
   "source": [
    "NB_Model = MultinomialNB()\n",
    "RFC_Model = RandomForestClassifier()\n",
    "KNC_Model = KNeighborsClassifier()\n",
    "DTC_Model = DecisionTreeClassifier()"
   ]
  },
  {
   "cell_type": "code",
   "execution_count": 10,
   "id": "59cc098b",
   "metadata": {},
   "outputs": [
    {
     "name": "stdout",
     "output_type": "stream",
     "text": [
      "<class 'pandas.core.frame.DataFrame'>\n",
      "Int64Index: 1395 entries, 0 to 1134\n",
      "Data columns (total 17 columns):\n",
      " #   Column                Non-Null Count  Dtype  \n",
      "---  ------                --------------  -----  \n",
      " 0   Unnamed: 0            1395 non-null   int64  \n",
      " 1   video_id              1395 non-null   object \n",
      " 2   definition            1395 non-null   int64  \n",
      " 3   categoryID            1395 non-null   int64  \n",
      " 4   likes_to_views        1395 non-null   float64\n",
      " 5   duration_to_views     1395 non-null   float64\n",
      " 6   captioning            1395 non-null   int64  \n",
      " 7   dislikes_to_views     1395 non-null   float64\n",
      " 8   title_length          1395 non-null   int64  \n",
      " 9   subscriber_count      1395 non-null   int64  \n",
      " 10  descrp_length         1395 non-null   int64  \n",
      " 11  publish_month         1395 non-null   int64  \n",
      " 12  numVides_on_Channel   1395 non-null   int64  \n",
      " 13  popularity            1395 non-null   int64  \n",
      " 14  likes_to_dislikes     1395 non-null   float64\n",
      " 15  views_to_subscribers  1395 non-null   float64\n",
      " 16  views_to_daysActive   1395 non-null   float64\n",
      "dtypes: float64(6), int64(10), object(1)\n",
      "memory usage: 196.2+ KB\n"
     ]
    }
   ],
   "source": [
    "sample.info()"
   ]
  },
  {
   "cell_type": "code",
   "execution_count": 11,
   "id": "3b087de7",
   "metadata": {},
   "outputs": [],
   "source": [
    "X=sample.drop(['Unnamed: 0','definition','popularity','video_id','captioning'],axis=1)\n",
    "Y=sample['popularity']"
   ]
  },
  {
   "cell_type": "code",
   "execution_count": 12,
   "id": "723a8796",
   "metadata": {},
   "outputs": [],
   "source": [
    "X_train, X_test, y_train, y_test= train_test_split(X, Y, test_size = .25)"
   ]
  },
  {
   "cell_type": "markdown",
   "id": "82a79b12",
   "metadata": {},
   "source": [
    "# Implementation of Naive Bayes"
   ]
  },
  {
   "cell_type": "code",
   "execution_count": null,
   "id": "e01c98ba",
   "metadata": {},
   "outputs": [],
   "source": []
  },
  {
   "cell_type": "code",
   "execution_count": 13,
   "id": "88281e0b",
   "metadata": {},
   "outputs": [
    {
     "name": "stdout",
     "output_type": "stream",
     "text": [
      "\n",
      "Accuracy 95.70200573065902 \n",
      "\n",
      "Classfication Report\n",
      "               precision    recall  f1-score   support\n",
      "\n",
      "           0       0.99      0.96      0.97       286\n",
      "           1       0.84      0.94      0.89        63\n",
      "\n",
      "    accuracy                           0.96       349\n",
      "   macro avg       0.91      0.95      0.93       349\n",
      "weighted avg       0.96      0.96      0.96       349\n",
      "\n"
     ]
    },
    {
     "data": {
      "image/png": "[encoded data removed]",
      "text/plain": [
       "<Figure size 432x288 with 1 Axes>"
      ]
     },
     "metadata": {
      "needs_background": "light"
     },
     "output_type": "display_data"
    },
    {
     "name": "stdout",
     "output_type": "stream",
     "text": [
      "confusion matrix value for Naive bayes is\n",
      "True Negative: 275 False Negative: 4 True Positive: 59 False Positive: 11\n",
      "--------------Accuracy----------------\n",
      "Accuracy of Naive bayes  is 95.7\n",
      "--------------Sensitivity----------------\n",
      "Sensitivity of Naive bayes  is 93.65\n",
      "--------------Specificity----------------\n",
      "Specificity of Naive bayes  is 96.15\n"
     ]
    }
   ],
   "source": [
    "\n",
    "nv =MultinomialNB()\n",
    "nv.fit(X_train,y_train)\n",
    "\n",
    "y_pred = nv.predict(X_test)\n",
    "#Confusion matrix is used to calculate the accuracy of the model\n",
    "from sklearn.metrics import confusion_matrix\n",
    "confusion_matrix = confusion_matrix(y_test, y_pred)\n",
    "accuracy=((confusion_matrix[0][0]+confusion_matrix[1][1])/len(y_test)*100)\n",
    "print('\\nAccuracy',accuracy,'\\n')\n",
    "print('Classfication Report\\n',classification_report(y_test, y_pred))\n",
    "\n",
    "createROCCurve(y_test,y_pred,'Applying Naive bayes')\n",
    "\n",
    "\n",
    "conf_Mat= confusion_matrix\n",
    "TN = conf_Mat[0][0]\n",
    "FN = conf_Mat[1][0]\n",
    "TP = conf_Mat[1][1]\n",
    "FP = conf_Mat[0][1]\n",
    "\n",
    "name=\"Naive bayes\"\n",
    "    \n",
    "print(\"confusion matrix value for\", name,\"is\")\n",
    "print(\"True Negative:\",TN,\"False Negative:\",FN,\"True Positive:\",TP,\"False Positive:\",FP)\n",
    "Accuracy=(TP+TN)/(TP+TN+FP+FN)*100\n",
    "    \n",
    "print(\"--------------Accuracy----------------\")\n",
    "print(\"Accuracy of\", name, \" is\",round(Accuracy,2))\n",
    "\n",
    "Sensitivity=TP/(TP+FN)*100\n",
    "print(\"--------------Sensitivity----------------\")\n",
    "print(\"Sensitivity of\", name ,\" is\" ,round(Sensitivity,2))\n",
    "\n",
    "Specificity=TN/(TN+FP)*100\n",
    "print(\"--------------Specificity----------------\")\n",
    "print(\"Specificity of\",name,\" is\",round(Specificity,2))"
   ]
  },
  {
   "cell_type": "markdown",
   "id": "a9b75cc0",
   "metadata": {},
   "source": [
    "# Implementation of SVM"
   ]
  },
  {
   "cell_type": "code",
   "execution_count": 14,
   "id": "1b2f5dd7",
   "metadata": {},
   "outputs": [
    {
     "name": "stdout",
     "output_type": "stream",
     "text": [
      "\n",
      "Accuracy 81.9484240687679 \n",
      "\n",
      "Classfication Report\n",
      "               precision    recall  f1-score   support\n",
      "\n",
      "           0       0.82      1.00      0.90       286\n",
      "           1       0.00      0.00      0.00        63\n",
      "\n",
      "    accuracy                           0.82       349\n",
      "   macro avg       0.41      0.50      0.45       349\n",
      "weighted avg       0.67      0.82      0.74       349\n",
      "\n"
     ]
    },
    {
     "data": {
      "image/png": "[encoded data removed]",
      "text/plain": [
       "<Figure size 432x288 with 1 Axes>"
      ]
     },
     "metadata": {
      "needs_background": "light"
     },
     "output_type": "display_data"
    },
    {
     "name": "stdout",
     "output_type": "stream",
     "text": [
      "confusion matrix value for s_v_m is\n",
      "True Negative: 286 False Negative: 63 True Positive: 0 False Positive: 0\n",
      "--------------Accuracy----------------\n",
      "Accuracy of s_v_m  is 81.95\n",
      "--------------Sensitivity----------------\n",
      "Sensitivity of s_v_m  is 0.0\n",
      "--------------Specificity----------------\n",
      "Specificity of s_v_m  is 100.0\n"
     ]
    }
   ],
   "source": [
    "\n",
    "s_v_m =svm.SVC()\n",
    "s_v_m.fit(X_train,y_train)\n",
    "\n",
    "y_pred = s_v_m.predict(X_test)\n",
    "#Confusion matrix is used to calculate the accuracy of the model\n",
    "from sklearn.metrics import confusion_matrix\n",
    "confusion_matrix = confusion_matrix(y_test, y_pred)\n",
    "accuracy=((confusion_matrix[0][0]+confusion_matrix[1][1])/len(y_test)*100)\n",
    "print('\\nAccuracy',accuracy,'\\n')\n",
    "print('Classfication Report\\n',classification_report(y_test, y_pred))\n",
    "\n",
    "createROCCurve(y_test,y_pred,'Applying SVM')\n",
    "\n",
    "\n",
    "\n",
    "conf_Mat= confusion_matrix\n",
    "TN = conf_Mat[0][0]\n",
    "FN = conf_Mat[1][0]\n",
    "TP = conf_Mat[1][1]\n",
    "FP = conf_Mat[0][1]\n",
    "\n",
    "name=\"s_v_m\"\n",
    "    \n",
    "print(\"confusion matrix value for\", name,\"is\")\n",
    "print(\"True Negative:\",TN,\"False Negative:\",FN,\"True Positive:\",TP,\"False Positive:\",FP)\n",
    "Accuracy=(TP+TN)/(TP+TN+FP+FN)*100\n",
    "    \n",
    "print(\"--------------Accuracy----------------\")\n",
    "print(\"Accuracy of\", name, \" is\",round(Accuracy,2))\n",
    "\n",
    "Sensitivity=TP/(TP+FN)*100\n",
    "print(\"--------------Sensitivity----------------\")\n",
    "print(\"Sensitivity of\", name ,\" is\" ,round(Sensitivity,2))\n",
    "\n",
    "Specificity=TN/(TN+FP)*100\n",
    "print(\"--------------Specificity----------------\")\n",
    "print(\"Specificity of\",name,\" is\",round(Specificity,2))"
   ]
  },
  {
   "cell_type": "markdown",
   "id": "2a2b1b6c",
   "metadata": {},
   "source": [
    "# implementation of RandomForest"
   ]
  },
  {
   "cell_type": "code",
   "execution_count": 15,
   "id": "2ddf4e66",
   "metadata": {},
   "outputs": [
    {
     "name": "stdout",
     "output_type": "stream",
     "text": [
      "\n",
      "Accuracy 99.42693409742121 \n",
      "\n",
      "Classfication Report\n",
      "               precision    recall  f1-score   support\n",
      "\n",
      "           0       1.00      1.00      1.00       286\n",
      "           1       0.98      0.98      0.98        63\n",
      "\n",
      "    accuracy                           0.99       349\n",
      "   macro avg       0.99      0.99      0.99       349\n",
      "weighted avg       0.99      0.99      0.99       349\n",
      "\n"
     ]
    },
    {
     "data": {
      "image/png": "[encoded data removed]",
      "text/plain": [
       "<Figure size 432x288 with 1 Axes>"
      ]
     },
     "metadata": {
      "needs_background": "light"
     },
     "output_type": "display_data"
    },
    {
     "name": "stdout",
     "output_type": "stream",
     "text": [
      "confusion matrix value for Random Forest is\n",
      "True Negative: 285 False Negative: 1 True Positive: 62 False Positive: 1\n",
      "--------------Accuracy----------------\n",
      "Accuracy of Random Forest  is 99.43\n",
      "--------------Sensitivity----------------\n",
      "Sensitivity of Random Forest  is 98.41\n",
      "--------------Specificity----------------\n",
      "Specificity of Random Forest  is 99.65\n"
     ]
    }
   ],
   "source": [
    "from sklearn.ensemble import RandomForestRegressor\n",
    "from sklearn.metrics import classification_report, confusion_matrix,accuracy_score\n",
    "\n",
    "\n",
    "from sklearn.ensemble import RandomForestClassifier\n",
    "\n",
    "\n",
    "rf=RandomForestClassifier(max_depth=2, random_state=0)\n",
    "\n",
    "\n",
    "\n",
    "\n",
    "rf.fit(X_train,y_train)\n",
    "\n",
    "y_pred = rf.predict(X_test)\n",
    "#Confusion matrix is used to calculate the accuracy of the model\n",
    "from sklearn.metrics import confusion_matrix\n",
    "confusion_matrix = confusion_matrix(y_test, y_pred)\n",
    "accuracy=((confusion_matrix[0][0]+confusion_matrix[1][1])/len(y_test)*100)\n",
    "print('\\nAccuracy',accuracy,'\\n')\n",
    "print('Classfication Report\\n',classification_report(y_test, y_pred))\n",
    "\n",
    "createROCCurve(y_test,y_pred,' Applying Random Forest ')\n",
    "\n",
    "\n",
    "\n",
    "conf_Mat= confusion_matrix\n",
    "TN = conf_Mat[0][0]\n",
    "FN = conf_Mat[1][0]\n",
    "TP = conf_Mat[1][1]\n",
    "FP = conf_Mat[0][1]\n",
    "\n",
    "name=\"Random Forest\"\n",
    "    \n",
    "print(\"confusion matrix value for\", name,\"is\")\n",
    "print(\"True Negative:\",TN,\"False Negative:\",FN,\"True Positive:\",TP,\"False Positive:\",FP)\n",
    "Accuracy=(TP+TN)/(TP+TN+FP+FN)*100\n",
    "    \n",
    "print(\"--------------Accuracy----------------\")\n",
    "print(\"Accuracy of\", name, \" is\",round(Accuracy,2))\n",
    "\n",
    "Sensitivity=TP/(TP+FN)*100\n",
    "print(\"--------------Sensitivity----------------\")\n",
    "print(\"Sensitivity of\", name ,\" is\" ,round(Sensitivity,2))\n",
    "\n",
    "Specificity=TN/(TN+FP)*100\n",
    "print(\"--------------Specificity----------------\")\n",
    "print(\"Specificity of\",name,\" is\",round(Specificity,2))"
   ]
  },
  {
   "cell_type": "markdown",
   "id": "46cfb09b",
   "metadata": {},
   "source": [
    "# Implementation of KNN"
   ]
  },
  {
   "cell_type": "code",
   "execution_count": 16,
   "id": "d6256cfc",
   "metadata": {},
   "outputs": [
    {
     "name": "stdout",
     "output_type": "stream",
     "text": [
      "Value of K\t   Accuracy\n",
      "5 \t\t 94.84240687679083\n",
      "10 \t\t 93.98280802292264\n",
      "15 \t\t 92.55014326647564\n",
      "25 \t\t 91.40401146131805\n",
      "40 \t\t 90.83094555873924\n",
      "50 \t\t 91.11747851002865\n",
      "100 \t\t 87.39255014326648\n",
      "200 \t\t 84.81375358166189\n",
      "500 \t\t 83.3810888252149\n"
     ]
    }
   ],
   "source": [
    "l=[5,10,15,25,40,50,100,200,500]\n",
    "print('Value of K\\t   Accuracy')\n",
    "for i in l:\n",
    "    X_train, X_test, y_train, y_test= train_test_split(X, Y, test_size = .25)\n",
    "    #K Neasrest Classifier with different \n",
    "    knn = KNeighborsClassifier(n_neighbors=i)\n",
    "    knn.fit(X_train,y_train)\n",
    "    predictions = knn.predict(X_test)\n",
    "    actual = y_test\n",
    "    accuracy = (np.sum(predictions == actual)/len(actual))*100\n",
    "    print(i,'\\t\\t',accuracy)\n"
   ]
  },
  {
   "cell_type": "markdown",
   "id": "086ef774",
   "metadata": {},
   "source": [
    "# k=5 would be best"
   ]
  },
  {
   "cell_type": "code",
   "execution_count": 17,
   "id": "75036f02",
   "metadata": {},
   "outputs": [
    {
     "name": "stdout",
     "output_type": "stream",
     "text": [
      "\n",
      "Accuracy 97.134670487106 \n",
      "\n",
      "Classfication Report\n",
      "               precision    recall  f1-score   support\n",
      "\n",
      "           0       0.98      0.99      0.98       291\n",
      "           1       0.94      0.88      0.91        58\n",
      "\n",
      "    accuracy                           0.97       349\n",
      "   macro avg       0.96      0.93      0.95       349\n",
      "weighted avg       0.97      0.97      0.97       349\n",
      "\n"
     ]
    },
    {
     "data": {
      "image/png": "[encoded data removed]",
      "text/plain": [
       "<Figure size 432x288 with 1 Axes>"
      ]
     },
     "metadata": {
      "needs_background": "light"
     },
     "output_type": "display_data"
    },
    {
     "name": "stdout",
     "output_type": "stream",
     "text": [
      "confusion matrix value for KNN is\n",
      "True Negative: 288 False Negative: 7 True Positive: 51 False Positive: 3\n",
      "--------------Accuracy----------------\n",
      "Accuracy of KNN  is 97.13\n",
      "--------------Sensitivity----------------\n",
      "Sensitivity of KNN  is 87.93\n",
      "--------------Specificity----------------\n",
      "Specificity of KNN  is 98.97\n"
     ]
    }
   ],
   "source": [
    "knn = KNeighborsClassifier(n_neighbors=5)\n",
    "knn.fit(X_train,y_train)\n",
    "y_pred = knn.predict(X_test)\n",
    "\n",
    "#Confusion matrix is used to calculate the accuracy of the model\n",
    "from sklearn.metrics import confusion_matrix\n",
    "confusion_matrix = confusion_matrix(y_test, y_pred)\n",
    "accuracy=((confusion_matrix[0][0]+confusion_matrix[1][1])/len(y_test)*100)\n",
    "print('\\nAccuracy',accuracy,'\\n')\n",
    "print('Classfication Report\\n',classification_report(y_test, y_pred))\n",
    "createROCCurve(y_test,y_pred,' Applying KNN ')\n",
    "\n",
    "\n",
    "conf_Mat= confusion_matrix\n",
    "TN = conf_Mat[0][0]\n",
    "FN = conf_Mat[1][0]\n",
    "TP = conf_Mat[1][1]\n",
    "FP = conf_Mat[0][1]\n",
    "\n",
    "name=\"KNN\"\n",
    "    \n",
    "print(\"confusion matrix value for\", name,\"is\")\n",
    "print(\"True Negative:\",TN,\"False Negative:\",FN,\"True Positive:\",TP,\"False Positive:\",FP)\n",
    "Accuracy=(TP+TN)/(TP+TN+FP+FN)*100\n",
    "    \n",
    "print(\"--------------Accuracy----------------\")\n",
    "print(\"Accuracy of\", name, \" is\",round(Accuracy,2))\n",
    "\n",
    "Sensitivity=TP/(TP+FN)*100\n",
    "print(\"--------------Sensitivity----------------\")\n",
    "print(\"Sensitivity of\", name ,\" is\" ,round(Sensitivity,2))\n",
    "\n",
    "Specificity=TN/(TN+FP)*100\n",
    "print(\"--------------Specificity----------------\")\n",
    "print(\"Specificity of\",name,\" is\",round(Specificity,2))"
   ]
  },
  {
   "cell_type": "markdown",
   "id": "fcf16ac3",
   "metadata": {},
   "source": [
    "# Implementation of Logistic regression"
   ]
  },
  {
   "cell_type": "code",
   "execution_count": 18,
   "id": "2bab7c78",
   "metadata": {},
   "outputs": [
    {
     "name": "stdout",
     "output_type": "stream",
     "text": [
      "\n",
      "Accuracy 99.14040114613181 \n",
      "\n",
      "Classfication Report\n",
      "               precision    recall  f1-score   support\n",
      "\n",
      "           0       0.99      1.00      0.99       291\n",
      "           1       1.00      0.95      0.97        58\n",
      "\n",
      "    accuracy                           0.99       349\n",
      "   macro avg       0.99      0.97      0.98       349\n",
      "weighted avg       0.99      0.99      0.99       349\n",
      "\n"
     ]
    },
    {
     "data": {
      "image/png": "[encoded data removed]",
      "text/plain": [
       "<Figure size 432x288 with 1 Axes>"
      ]
     },
     "metadata": {
      "needs_background": "light"
     },
     "output_type": "display_data"
    },
    {
     "name": "stdout",
     "output_type": "stream",
     "text": [
      "confusion matrix value for Logistic regression is\n",
      "True Negative: 291 False Negative: 3 True Positive: 55 False Positive: 0\n",
      "--------------Accuracy----------------\n",
      "Accuracy of Logistic regression  is 99.14\n",
      "--------------Sensitivity----------------\n",
      "Sensitivity of Logistic regression  is 94.83\n",
      "--------------Specificity----------------\n",
      "Specificity of Logistic regression  is 100.0\n"
     ]
    }
   ],
   "source": [
    "from sklearn.linear_model import LogisticRegression\n",
    "#Logistic Regression is used for traning the model\n",
    "LogReg = LogisticRegression()\n",
    "LogReg.fit(X_train, y_train)\n",
    "y_pred = LogReg.predict(X_test)\n",
    "#Confusion matrix is used to calculate the accuracy of the model\n",
    "from sklearn.metrics import confusion_matrix\n",
    "confusion_matrix = confusion_matrix(y_test, y_pred)\n",
    "accuracy=((confusion_matrix[0][0]+confusion_matrix[1][1])/len(y_test)*100)\n",
    "print('\\nAccuracy',accuracy,'\\n')\n",
    "print('Classfication Report\\n',classification_report(y_test, y_pred))\n",
    "\n",
    "createROCCurve(y_test,y_pred,' Applying Logistic Regression ')\n",
    "\n",
    "\n",
    "conf_Mat= confusion_matrix\n",
    "TN = conf_Mat[0][0]\n",
    "FN = conf_Mat[1][0]\n",
    "TP = conf_Mat[1][1]\n",
    "FP = conf_Mat[0][1]\n",
    "\n",
    "name=\"Logistic regression\"\n",
    "    \n",
    "print(\"confusion matrix value for\", name,\"is\")\n",
    "print(\"True Negative:\",TN,\"False Negative:\",FN,\"True Positive:\",TP,\"False Positive:\",FP)\n",
    "Accuracy=(TP+TN)/(TP+TN+FP+FN)*100\n",
    "    \n",
    "print(\"--------------Accuracy----------------\")\n",
    "print(\"Accuracy of\", name, \" is\",round(Accuracy,2))\n",
    "\n",
    "Sensitivity=TP/(TP+FN)*100\n",
    "print(\"--------------Sensitivity----------------\")\n",
    "print(\"Sensitivity of\", name ,\" is\" ,round(Sensitivity,2))\n",
    "\n",
    "Specificity=TN/(TN+FP)*100\n",
    "print(\"--------------Specificity----------------\")\n",
    "print(\"Specificity of\",name,\" is\",round(Specificity,2))\n"
   ]
  },
  {
   "cell_type": "markdown",
   "id": "674fbd0b",
   "metadata": {},
   "source": [
    "# Decision Tree Implementation"
   ]
  },
  {
   "cell_type": "code",
   "execution_count": 19,
   "id": "e39dec3c",
   "metadata": {},
   "outputs": [
    {
     "name": "stdout",
     "output_type": "stream",
     "text": [
      "\n",
      "Accuracy 99.7134670487106 \n",
      "\n",
      "Classfication Report\n",
      "               precision    recall  f1-score   support\n",
      "\n",
      "           0       1.00      1.00      1.00       291\n",
      "           1       0.98      1.00      0.99        58\n",
      "\n",
      "    accuracy                           1.00       349\n",
      "   macro avg       0.99      1.00      0.99       349\n",
      "weighted avg       1.00      1.00      1.00       349\n",
      "\n"
     ]
    },
    {
     "data": {
      "image/png": "[encoded data removed]",
      "text/plain": [
       "<Figure size 432x288 with 1 Axes>"
      ]
     },
     "metadata": {
      "needs_background": "light"
     },
     "output_type": "display_data"
    },
    {
     "name": "stdout",
     "output_type": "stream",
     "text": [
      "confusion matrix value for Decision Tree is\n",
      "True Negative: 290 False Negative: 0 True Positive: 58 False Positive: 1\n",
      "--------------Accuracy----------------\n",
      "Accuracy of Decision Tree  is 99.71\n",
      "--------------Sensitivity----------------\n",
      "Sensitivity of Decision Tree  is 100.0\n",
      "--------------Specificity----------------\n",
      "Specificity of Decision Tree  is 99.66\n"
     ]
    }
   ],
   "source": [
    "\n",
    "dt = DecisionTreeClassifier()\n",
    "dt.fit(X_train,y_train)\n",
    "\n",
    "y_pred = dt.predict(X_test)\n",
    "#Confusion matrix is used to calculate the accuracy of the model\n",
    "from sklearn.metrics import confusion_matrix\n",
    "confusion_matrix = confusion_matrix(y_test, y_pred)\n",
    "accuracy=((confusion_matrix[0][0]+confusion_matrix[1][1])/len(y_test)*100)\n",
    "print('\\nAccuracy',accuracy,'\\n')\n",
    "print('Classfication Report\\n',classification_report(y_test, y_pred))\n",
    "\n",
    "createROCCurve(y_test,y_pred,' Applying Decision Tree ')\n",
    "\n",
    "\n",
    "\n",
    "conf_Mat= confusion_matrix\n",
    "TN = conf_Mat[0][0]\n",
    "FN = conf_Mat[1][0]\n",
    "TP = conf_Mat[1][1]\n",
    "FP = conf_Mat[0][1]\n",
    "\n",
    "name=\"Decision Tree\"\n",
    "    \n",
    "print(\"confusion matrix value for\", name,\"is\")\n",
    "print(\"True Negative:\",TN,\"False Negative:\",FN,\"True Positive:\",TP,\"False Positive:\",FP)\n",
    "Accuracy=(TP+TN)/(TP+TN+FP+FN)*100\n",
    "    \n",
    "print(\"--------------Accuracy----------------\")\n",
    "print(\"Accuracy of\", name, \" is\",round(Accuracy,2))\n",
    "\n",
    "Sensitivity=TP/(TP+FN)*100\n",
    "print(\"--------------Sensitivity----------------\")\n",
    "print(\"Sensitivity of\", name ,\" is\" ,round(Sensitivity,2))\n",
    "\n",
    "Specificity=TN/(TN+FP)*100\n",
    "print(\"--------------Specificity----------------\")\n",
    "print(\"Specificity of\",name,\" is\",round(Specificity,2))"
   ]
  },
  {
   "cell_type": "markdown",
   "id": "232d5da5",
   "metadata": {},
   "source": [
    "# Customized Input "
   ]
  },
  {
   "cell_type": "code",
   "execution_count": 20,
   "id": "457dffca",
   "metadata": {},
   "outputs": [],
   "source": [
    "sample_input1=[['15','0.003836','0.000008','0.000122','20','1524','83','3','22','31.414335','0.000071','6291.827739']]"
   ]
  },
  {
   "cell_type": "code",
   "execution_count": 21,
   "id": "4d2f524d",
   "metadata": {},
   "outputs": [
    {
     "name": "stdout",
     "output_type": "stream",
     "text": [
      "Predicted Output for Naive Bayes algorithm\n",
      "[1]\n",
      "Predicted Output for SVM algorithm\n",
      "[0]\n",
      "Predicted Output for Random FOrest algorithm\n",
      "[1]\n",
      "Predicted Output for KNN N=5 algorithm\n",
      "[1]\n",
      "Predicted Output for Logistic Regression algorithm\n",
      "[1]\n",
      "Predicted Output for Decision Tree algorithm\n",
      "[1]\n"
     ]
    }
   ],
   "source": [
    "print(\"Predicted Output for Naive Bayes algorithm\")\n",
    "customized_output_NV = nv.predict(sample_input1)\n",
    "print(customized_output_NV)\n",
    "print(\"Predicted Output for SVM algorithm\")\n",
    "customized_output_SVM = s_v_m.predict(sample_input1)\n",
    "print(customized_output_SVM)\n",
    "print(\"Predicted Output for Random FOrest algorithm\")\n",
    "customized_output_rf = rf.predict(sample_input1)\n",
    "print(customized_output_rf)\n",
    "print(\"Predicted Output for KNN N=5 algorithm\")\n",
    "customized_output_knn = knn.predict(sample_input1)\n",
    "print(customized_output_knn)\n",
    "print(\"Predicted Output for Logistic Regression algorithm\")\n",
    "customized_output_LogReg = LogReg.predict(sample_input1)\n",
    "print(customized_output_LogReg)\n",
    "print(\"Predicted Output for Decision Tree algorithm\")\n",
    "customized_output_DT = dt.predict(sample_input1)\n",
    "print(customized_output_DT)"
   ]
  },
  {
   "cell_type": "code",
   "execution_count": null,
   "id": "bd26f6eb",
   "metadata": {},
   "outputs": [],
   "source": []
  },
  {
   "cell_type": "code",
   "execution_count": null,
   "id": "20d66b82",
   "metadata": {},
   "outputs": [],
   "source": []
  },
  {
   "cell_type": "code",
   "execution_count": null,
   "id": "e6517dd9",
   "metadata": {},
   "outputs": [],
   "source": []
  }
 ],
 "metadata": {
  "kernelspec": {
   "display_name": "Python 3 (ipykernel)",
   "language": "python",
   "name": "python3"
  },
  "language_info": {
   "codemirror_mode": {
    "name": "ipython",
    "version": 3
   },
   "file_extension": ".py",
   "mimetype": "text/x-python",
   "name": "python",
   "nbconvert_exporter": "python",
   "pygments_lexer": "ipython3",
   "version": "3.9.7"
  }
 },
 "nbformat": 4,
 "nbformat_minor": 5
}
